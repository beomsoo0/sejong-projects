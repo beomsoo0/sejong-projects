{
 "cells": [
  {
   "cell_type": "code",
   "execution_count": 14,
   "id": "sealed-underwear",
   "metadata": {},
   "outputs": [],
   "source": [
    "import numpy as np\n",
    "\n",
    "# Training Data 준비\n",
    "\n",
    "x_data = np.array([1,2,3,4,5]).reshape(5,1)\n",
    "t_data = np.array([2,3,4,5,6]).reshape(5,1)"
   ]
  },
  {
   "cell_type": "code",
   "execution_count": 15,
   "id": "lesbian-macintosh",
   "metadata": {},
   "outputs": [
    {
     "name": "stdout",
     "output_type": "stream",
     "text": [
      "W = [[0.16066979]] , W,shape = (1, 1) , b = [0.8177844] , b.shape = (1,)\n"
     ]
    }
   ],
   "source": [
    "# 임의의 직선 y = Wx + b 정의, 가중치 W와 바이어스 b 임의의 값으로 초기화\n",
    "W = np.random.rand(1,1)\n",
    "b = np.random.rand(1)\n",
    "print(\"W =\", W, \", W,shape =\", W.shape, \", b =\", b, \", b.shape =\", b.shape)"
   ]
  },
  {
   "cell_type": "code",
   "execution_count": 16,
   "id": "material-temple",
   "metadata": {},
   "outputs": [],
   "source": [
    "# 손실함수\n",
    "def loss_func(x, t):\n",
    "    y = np.dot(x,W) + b\n",
    "    \n",
    "    return ((np.sum((t - y) ** 2)) / len(x))"
   ]
  },
  {
   "cell_type": "code",
   "execution_count": 17,
   "id": "alternate-occupation",
   "metadata": {},
   "outputs": [],
   "source": [
    "# 수치미분 함수\n",
    "def numerical_derivative(f, x):\n",
    "    delta_x = 1e-4 # 0.000\n",
    "    grad = np.zeros_like(x) # x 크기의 어레이 선언 및 초기화\n",
    "    \n",
    "    it = np.nditer(x, flags = ['multi_index'], op_flags = ['readwrite'])\n",
    "    \n",
    "    while not it.finished:\n",
    "        idx = it.multi_index\n",
    "        tmp_val = x[idx] # x 바뀌기 때문에 저장해둠\n",
    "        x[idx]= float(tmp_val) + delta_x\n",
    "        fx1 = f(x) # f(x+delta_x)\n",
    "        \n",
    "        x[idx] = tmp_val - delta_x\n",
    "        fx2 = f(x) # f(x-delta_x)\n",
    "        grad[idx] = (fx1 - fx2) / (2*delta_x)\n",
    "        \n",
    "        x[idx] = tmp_val\n",
    "        it.iternext()\n",
    "        \n",
    "    return grad"
   ]
  },
  {
   "cell_type": "code",
   "execution_count": 18,
   "id": "accurate-purchase",
   "metadata": {},
   "outputs": [],
   "source": [
    "# 손실함수 값 계산 함수\n",
    "# 입력변수 x, t : numpy type\n",
    "def error_val(x, t):\n",
    "    y = np.dot(x, W) + b\n",
    "    \n",
    "    return( np.sum( (t-y)**2 )) / len(x)\n",
    "\n",
    "# 학습을 마친 후, 임의의 데이터에 대해 미래 값 예측 함수\n",
    "#입력변수 x : numpy type\n",
    "def predict(x):\n",
    "    y = np.dot(x, W) + b\n",
    "    \n",
    "    return y"
   ]
  },
  {
   "cell_type": "code",
   "execution_count": 19,
   "id": "stopped-appointment",
   "metadata": {},
   "outputs": [
    {
     "name": "stdout",
     "output_type": "stream",
     "text": [
      "Initial error value = 8.70006412665206 Initial W = [[0.16066979]] \n",
      " , b= [0.8177844]\n",
      "step = 0 error value 5.1186029523710035 W = [[0.35625537]] , b= [0.86005339]\n",
      "step = 400 error value 7.176808038228564e-09 W = [[1.00005501]] , b= [0.99980144]\n",
      "step = 800 error value 4.579227819440679e-10 W = [[1.0000139]] , b= [0.99994984]\n",
      "step = 1200 error value 2.921818071364518e-11 W = [[1.00000351]] , b= [0.99998733]\n",
      "step = 1600 error value 1.8642926662855863e-12 W = [[1.00000089]] , b= [0.9999968]\n",
      "step = 2000 error value 1.1895289404642575e-13 W = [[1.00000022]] , b= [0.99999919]\n",
      "step = 2400 error value 7.589897932725496e-15 W = [[1.00000006]] , b= [0.9999998]\n",
      "step = 2800 error value 4.842803767542811e-16 W = [[1.00000001]] , b= [0.99999995]\n",
      "step = 3200 error value 3.089995257735975e-17 W = [[1.]] , b= [0.99999999]\n",
      "step = 3600 error value 1.9716003011016782e-18 W = [[1.]] , b= [1.]\n",
      "step = 4000 error value 1.2579966490013204e-19 W = [[1.]] , b= [1.]\n",
      "step = 4400 error value 8.026760866652102e-21 W = [[1.]] , b= [1.]\n",
      "step = 4800 error value 5.121534321015676e-22 W = [[1.]] , b= [1.]\n",
      "step = 5200 error value 3.2676467626443964e-23 W = [[1.]] , b= [1.]\n",
      "step = 5600 error value 2.0857388854026283e-24 W = [[1.]] , b= [1.]\n",
      "step = 6000 error value 1.3363709997810128e-25 W = [[1.]] , b= [1.]\n",
      "step = 6400 error value 8.634989797684978e-27 W = [[1.]] , b= [1.]\n",
      "step = 6800 error value 5.584346348059542e-28 W = [[1.]] , b= [1.]\n",
      "step = 7200 error value 9.517606821491508e-29 W = [[1.]] , b= [1.]\n",
      "step = 7600 error value 9.517606821491508e-29 W = [[1.]] , b= [1.]\n",
      "step = 8000 error value 9.517606821491508e-29 W = [[1.]] , b= [1.]\n"
     ]
    }
   ],
   "source": [
    "learning_rate = 1e-2 # 발산하는 경우 1e-3 ~ 1e-6 등으로 바꿔 실행\n",
    "\n",
    "f = lambda x : loss_func(x_data, t_data) # f(x) = loss_func(x_data, t_data)\n",
    "\n",
    "print(\"Initial error value =\", error_val(x_data, t_data), \"Initial W =\", W, \"\\n\", \", b=\", b)\n",
    "\n",
    "for step in range(8001):\n",
    "    \n",
    "    W -= learning_rate * numerical_derivative(f, W)\n",
    "    b -= learning_rate * numerical_derivative(f, b)\n",
    "    \n",
    "    if (step % 400 == 0):\n",
    "        print(\"step =\", step, \"error value\", error_val(x_data, t_data), \"W =\", W, \", b=\", b)\n",
    "    "
   ]
  },
  {
   "cell_type": "code",
   "execution_count": 7,
   "id": "dynamic-opposition",
   "metadata": {},
   "outputs": [
    {
     "data": {
      "text/plain": [
       "array([[31.]])"
      ]
     },
     "execution_count": 7,
     "metadata": {},
     "output_type": "execute_result"
    }
   ],
   "source": [
    "predict(30)"
   ]
  },
  {
   "cell_type": "code",
   "execution_count": 20,
   "id": "generic-exclusive",
   "metadata": {},
   "outputs": [
    {
     "data": {
      "text/plain": [
       "1.0"
      ]
     },
     "execution_count": 20,
     "metadata": {},
     "output_type": "execute_result"
    }
   ],
   "source": []
  },
  {
   "cell_type": "code",
   "execution_count": null,
   "id": "indonesian-surgeon",
   "metadata": {},
   "outputs": [],
   "source": []
  }
 ],
 "metadata": {
  "kernelspec": {
   "display_name": "Python 3",
   "language": "python",
   "name": "python3"
  },
  "language_info": {
   "codemirror_mode": {
    "name": "ipython",
    "version": 3
   },
   "file_extension": ".py",
   "mimetype": "text/x-python",
   "name": "python",
   "nbconvert_exporter": "python",
   "pygments_lexer": "ipython3",
   "version": "3.8.7"
  }
 },
 "nbformat": 4,
 "nbformat_minor": 5
}
