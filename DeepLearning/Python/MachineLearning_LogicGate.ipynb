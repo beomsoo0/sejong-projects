{
 "cells": [
  {
   "cell_type": "code",
   "execution_count": 2,
   "id": "intellectual-phone",
   "metadata": {},
   "outputs": [],
   "source": [
    "import numpy as np\n",
    "\n",
    "def sigmoid(x):\n",
    "    return 1 / (1+np.exp(-x))\n",
    "\n",
    "# 수치미분 함수\n",
    "def numerical_derivative(f, x):\n",
    "    delta_x = 1e-4 # 0.000\n",
    "    grad = np.zeros_like(x) # x 크기의 어레이 선언 및 초기화\n",
    "    \n",
    "    it = np.nditer(x, flags = ['multi_index'], op_flags = ['readwrite'])\n",
    "    \n",
    "    while not it.finished:\n",
    "        idx = it.multi_index\n",
    "        tmp_val = x[idx] # x 바뀌기 때문에 저장해둠\n",
    "        x[idx]= float(tmp_val) + delta_x\n",
    "        fx1 = f(x) # f(x+delta_x)\n",
    "        \n",
    "        x[idx] = tmp_val - delta_x\n",
    "        fx2 = f(x) # f(x-delta_x)\n",
    "        grad[idx] = (fx1 - fx2) / (2*delta_x)\n",
    "        \n",
    "        x[idx] = tmp_val\n",
    "        it.iternext()\n",
    "        \n",
    "    return grad"
   ]
  },
  {
   "cell_type": "code",
   "execution_count": 3,
   "id": "capable-tours",
   "metadata": {},
   "outputs": [],
   "source": [
    "class LogicGate:\n",
    "    \n",
    "    def __init__(self, gate_name, xdata, tdata):\n",
    "        \n",
    "        self.name = gate_name\n",
    "        \n",
    "        # 입력 데이터, 정답 데이터 초기화\n",
    "        self.__xdata = xdata.reshape(4, 2)     # (0,0) (0,1) (1,0) (1,1)\n",
    "        self.__tdata = tdata.reshape(4, 1)\n",
    "        \n",
    "        # 가중치 W, 바이어스 b 초기화\n",
    "        self.__W = np.random.rand(2,1)\n",
    "        self.__b = np.random.rand(1)\n",
    "        \n",
    "        # Learning Rate 초기화\n",
    "        self.__learning_rate = 1e-2\n",
    "        \n",
    "    def __loss_func(self):\n",
    "        \n",
    "        delta = 1e-7     # log 무한대 발산 방지\n",
    "        \n",
    "        z = np.dot(self.__xdata, self.__W) + self.__b\n",
    "        y = sigmoid(z)\n",
    "        \n",
    "        # cross-entropy\n",
    "        return -np.sum( self.__tdata*np.log(y +delta) + (1 - self.__tdata)*np.log((1 - y) +delta ) )\n",
    "    \n",
    "    def error_val(self):\n",
    "        \n",
    "        delta = 1e-7     # log 무한대 발산 방지\n",
    "        \n",
    "        z = np.dot(self.__xdata, self.__W) + self.__b\n",
    "        y = sigmoid(z)\n",
    "        \n",
    "        # cross-entropy\n",
    "        return -np.sum( self.__tdata*np.log(y +delta) + (1 - self.__tdata)*np.log((1 - y) +delta ) )\n",
    "    \n",
    "    # 수치미분을 이용하여 손실함수가 최소가 될 때까지 학습하는 함수\n",
    "    def train(self):\n",
    "        \n",
    "        f = lambda x : self.__loss_func()\n",
    "        \n",
    "        print(\"Initial error value =\", self.error_val())\n",
    "\n",
    "        for step in range(8001):\n",
    "            \n",
    "            self.__W -= self.__learning_rate * numerical_derivative(f, self.__W)\n",
    "            self.__b -= self.__learning_rate * numerical_derivative(f, self.__b)\n",
    "            \n",
    "            if (step % 400 == 0):\n",
    "                print(\"step =\", step, \"error value =\", self.error_val())\n",
    "                \n",
    "    def predict(self, input_data):\n",
    "        \n",
    "        z= np.dot(input_data, self.__W) + self.__b\n",
    "        y = sigmoid(z)\n",
    "        \n",
    "        if y > 0.5:\n",
    "            result = 1     # True\n",
    "        else :\n",
    "            result = 0     # False\n",
    "            \n",
    "        return y, result"
   ]
  },
  {
   "cell_type": "code",
   "execution_count": 4,
   "id": "conditional-cleaner",
   "metadata": {},
   "outputs": [
    {
     "name": "stdout",
     "output_type": "stream",
     "text": [
      "Initial error value = 3.6497743303262964\n",
      "step = 0 error value = 3.6112665599656792\n",
      "step = 400 error value = 1.530578075203151\n",
      "step = 800 error value = 1.1393316325576412\n",
      "step = 1200 error value = 0.9166857446289722\n",
      "step = 1600 error value = 0.7695029678262626\n",
      "step = 2000 error value = 0.6636287412663839\n",
      "step = 2400 error value = 0.5833149336575398\n",
      "step = 2800 error value = 0.5201207099639734\n",
      "step = 3200 error value = 0.4690374669101075\n",
      "step = 3600 error value = 0.4268718845590891\n",
      "step = 4000 error value = 0.391477278254195\n",
      "step = 4400 error value = 0.36135078585250857\n",
      "step = 4800 error value = 0.3354059053923629\n",
      "step = 5200 error value = 0.3128363113836785\n",
      "step = 5600 error value = 0.293030410552671\n",
      "step = 6000 error value = 0.2755156417214376\n",
      "step = 6400 error value = 0.25992099125980245\n",
      "step = 6800 error value = 0.2459510788330624\n",
      "step = 7200 error value = 0.23336782343148638\n",
      "step = 7600 error value = 0.22197720932361528\n",
      "step = 8000 error value = 0.2116195632796325\n"
     ]
    }
   ],
   "source": [
    "# AND GATE TRAIN\n",
    "xdata = np.array([ [0,0], [0,1], [1,0], [1,1] ])\n",
    "tdata = np.array([ 0, 0, 0, 1 ])\n",
    "\n",
    "AND_obj = LogicGate(\"AND_GATE\", xdata, tdata)\n",
    "\n",
    "AND_obj.train()"
   ]
  },
  {
   "cell_type": "code",
   "execution_count": 6,
   "id": "necessary-idaho",
   "metadata": {},
   "outputs": [
    {
     "name": "stdout",
     "output_type": "stream",
     "text": [
      "AND_GATE \n",
      "\n",
      "[0 0]  =  0 \n",
      "\n",
      "[0 1]  =  0 \n",
      "\n",
      "[1 0]  =  0 \n",
      "\n",
      "[1 1]  =  1 \n",
      "\n"
     ]
    }
   ],
   "source": [
    "# AND GATE Prediction\n",
    "print(AND_obj.name, \"\\n\")\n",
    "\n",
    "test_data = np.array([ [0,0], [0,1], [1,0], [1,1] ])\n",
    "\n",
    "for input_data in test_data:\n",
    "    (sigmoid_val, logical_val) = AND_obj.predict(input_data)\n",
    "    print(input_data, \" = \", logical_val, \"\\n\")"
   ]
  },
  {
   "cell_type": "code",
   "execution_count": 7,
   "id": "better-cotton",
   "metadata": {},
   "outputs": [
    {
     "name": "stdout",
     "output_type": "stream",
     "text": [
      "Initial error value = 1.9969672479144187\n",
      "step = 0 error value = 1.9935803877612464\n",
      "step = 400 error value = 1.2256202313830515\n",
      "step = 800 error value = 0.8662905749899665\n",
      "step = 1200 error value = 0.662745313917841\n",
      "step = 1600 error value = 0.5331665851780316\n",
      "step = 2000 error value = 0.4440159309451577\n",
      "step = 2400 error value = 0.37925089029011017\n",
      "step = 2800 error value = 0.3302590828280397\n",
      "step = 3200 error value = 0.2920168251580369\n",
      "step = 3600 error value = 0.2614054450497694\n",
      "step = 4000 error value = 0.2363921623715437\n",
      "step = 4400 error value = 0.2155987111723693\n",
      "step = 4800 error value = 0.19805956932116164\n",
      "step = 5200 error value = 0.18307944639756432\n",
      "step = 5600 error value = 0.17014568490173504\n",
      "step = 6000 error value = 0.15887246951570577\n",
      "step = 6400 error value = 0.1489641925315482\n",
      "step = 6800 error value = 0.14019074942230794\n",
      "step = 7200 error value = 0.1323704848542752\n",
      "step = 7600 error value = 0.12535817280850217\n",
      "step = 8000 error value = 0.1190363860009902\n"
     ]
    }
   ],
   "source": [
    "# OR GATE TRAIN\n",
    "xdata = np.array([ [0,0], [0,1], [1,0], [1,1] ])\n",
    "tdata = np.array([ 0, 1, 1, 1 ])\n",
    "\n",
    "OR_obj = LogicGate(\"OR_GATE\", xdata, tdata)\n",
    "\n",
    "OR_obj.train()"
   ]
  },
  {
   "cell_type": "code",
   "execution_count": 8,
   "id": "communist-letter",
   "metadata": {},
   "outputs": [
    {
     "name": "stdout",
     "output_type": "stream",
     "text": [
      "OR_GATE \n",
      "\n",
      "[0 0]  =  0 \n",
      "\n",
      "[0 1]  =  1 \n",
      "\n",
      "[1 0]  =  1 \n",
      "\n",
      "[1 1]  =  1 \n",
      "\n"
     ]
    }
   ],
   "source": [
    "# OR GATE Prediction\n",
    "print(OR_obj.name, \"\\n\")\n",
    "\n",
    "test_data = np.array([ [0,0], [0,1], [1,0], [1,1] ])\n",
    "\n",
    "for input_data in test_data:\n",
    "    (sigmoid_val, logical_val) = OR_obj.predict(input_data)\n",
    "    print(input_data, \" = \", logical_val, \"\\n\")"
   ]
  },
  {
   "cell_type": "code",
   "execution_count": 9,
   "id": "cordless-investigator",
   "metadata": {},
   "outputs": [
    {
     "name": "stdout",
     "output_type": "stream",
     "text": [
      "Initial error value = 2.9330804610987946\n",
      "step = 0 error value = 2.9273706456334523\n",
      "step = 400 error value = 1.6936915526170333\n",
      "step = 800 error value = 1.2203986780937224\n",
      "step = 1200 error value = 0.9664512811599775\n",
      "step = 1600 error value = 0.8037603141401946\n",
      "step = 2000 error value = 0.6888768351718482\n",
      "step = 2400 error value = 0.6027787764064589\n",
      "step = 2800 error value = 0.535613770412767\n",
      "step = 3200 error value = 0.48167174363588394\n",
      "step = 3600 error value = 0.43737327889202726\n",
      "step = 4000 error value = 0.40034248290162056\n",
      "step = 4400 error value = 0.36893234728841373\n",
      "step = 4800 error value = 0.341961528723066\n",
      "step = 5200 error value = 0.3185589927884915\n",
      "step = 5600 error value = 0.29806765833571885\n",
      "step = 6000 error value = 0.27998217768248457\n",
      "step = 6400 error value = 0.2639073959988939\n",
      "step = 6800 error value = 0.2495298264884379\n",
      "step = 7200 error value = 0.23659758682505422\n",
      "step = 7600 error value = 0.2249059901725778\n",
      "step = 8000 error value = 0.21428700664444006\n"
     ]
    }
   ],
   "source": [
    "# NAND GATE TRAIN\n",
    "xdata = np.array([ [0,0], [0,1], [1,0], [1,1] ])\n",
    "tdata = np.array([ 1, 1, 1, 0 ])\n",
    "\n",
    "NAND_obj = LogicGate(\"NAND_GATE\", xdata, tdata)\n",
    "\n",
    "NAND_obj.train()"
   ]
  },
  {
   "cell_type": "code",
   "execution_count": 10,
   "id": "chief-clerk",
   "metadata": {},
   "outputs": [
    {
     "name": "stdout",
     "output_type": "stream",
     "text": [
      "NAND_GATE \n",
      "\n",
      "[0 0]  =  1 \n",
      "\n",
      "[0 1]  =  1 \n",
      "\n",
      "[1 0]  =  1 \n",
      "\n",
      "[1 1]  =  0 \n",
      "\n"
     ]
    }
   ],
   "source": [
    "# NAND GATE Prediction\n",
    "print(NAND_obj.name, \"\\n\")\n",
    "\n",
    "test_data = np.array([ [0,0], [0,1], [1,0], [1,1] ])\n",
    "\n",
    "for input_data in test_data:\n",
    "    (sigmoid_val, logical_val) = NAND_obj.predict(input_data)\n",
    "    print(input_data, \" = \", logical_val, \"\\n\")"
   ]
  },
  {
   "cell_type": "code",
   "execution_count": 11,
   "id": "silent-platinum",
   "metadata": {},
   "outputs": [
    {
     "name": "stdout",
     "output_type": "stream",
     "text": [
      "Initial error value = 3.3681708604875045\n",
      "step = 0 error value = 3.3540490655020037\n",
      "step = 400 error value = 2.785507607821755\n",
      "step = 800 error value = 2.776188450681309\n",
      "step = 1200 error value = 2.7735993271666377\n",
      "step = 1600 error value = 2.772873279166175\n",
      "step = 2000 error value = 2.7726686176004125\n",
      "step = 2400 error value = 2.7726107681672216\n",
      "step = 2800 error value = 2.7725943938789768\n",
      "step = 3200 error value = 2.7725897559834056\n",
      "step = 3600 error value = 2.772588441900769\n",
      "step = 4000 error value = 2.772588069514807\n",
      "step = 4400 error value = 2.772587963979701\n",
      "step = 4800 error value = 2.772587934069703\n",
      "step = 5200 error value = 2.77258792559268\n",
      "step = 5600 error value = 2.7725879231901214\n",
      "step = 6000 error value = 2.7725879225091856\n",
      "step = 6400 error value = 2.7725879223161938\n",
      "step = 6800 error value = 2.7725879222614958\n",
      "step = 7200 error value = 2.7725879222459935\n",
      "step = 7600 error value = 2.7725879222415992\n",
      "step = 8000 error value = 2.772587922240354\n"
     ]
    }
   ],
   "source": [
    "# XOR GATE TRAIN\n",
    "xdata = np.array([ [0,0], [0,1], [1,0], [1,1] ])\n",
    "tdata = np.array([ 0, 1, 1, 0 ])\n",
    "\n",
    "XOR_obj = LogicGate(\"XOR_GATE\", xdata, tdata)\n",
    "\n",
    "# 손실함수 값이 2.7 근처에서 더이상 감소 X\n",
    "XOR_obj.train()"
   ]
  },
  {
   "cell_type": "code",
   "execution_count": 12,
   "id": "white-record",
   "metadata": {},
   "outputs": [
    {
     "name": "stdout",
     "output_type": "stream",
     "text": [
      "XOR_GATE \n",
      "\n",
      "[0 0]  =  0 \n",
      "\n",
      "[0 1]  =  0 \n",
      "\n",
      "[1 0]  =  0 \n",
      "\n",
      "[1 1]  =  1 \n",
      "\n"
     ]
    }
   ],
   "source": [
    "# XOR GATE Prediction (안됨)\n",
    "print(XOR_obj.name, \"\\n\")\n",
    "\n",
    "test_data = np.array([ [0,0], [0,1], [1,0], [1,1] ])\n",
    "\n",
    "for input_data in test_data:\n",
    "    (sigmoid_val, logical_val) = XOR_obj.predict(input_data)\n",
    "    print(input_data, \" = \", logical_val, \"\\n\")"
   ]
  },
  {
   "cell_type": "code",
   "execution_count": 14,
   "id": "radical-bibliography",
   "metadata": {},
   "outputs": [
    {
     "name": "stdout",
     "output_type": "stream",
     "text": [
      "[0 0]  =  0\n",
      "\n",
      "[0 1]  =  1\n",
      "\n",
      "[1 0]  =  1\n",
      "\n",
      "[1 1]  =  0\n",
      "\n"
     ]
    }
   ],
   "source": [
    "# XOR을 NAND + OR => AND 조합으로 계산\n",
    "input_data = np.array([ [0,0], [0,1], [1,0], [1,1] ])\n",
    "\n",
    "s1 = []     # NAND 출력\n",
    "s2 = []     # OR 출력\n",
    "\n",
    "new_input_data = []     # AND 입력\n",
    "final_output = []     # AND 출력\n",
    "\n",
    "for index in range(len(input_data)):\n",
    "    \n",
    "    s1 = NAND_obj.predict(input_data[index])     # NAND 출력\n",
    "    s2 = OR_obj.predict(input_data[index])     # OR 출력\n",
    "    \n",
    "    new_input_data.append(s1[-1])     # AND 입력\n",
    "    new_input_data.append(s2[-1])     # AND 출력\n",
    "    \n",
    "    (sigmoid_val, logical_val) = AND_obj.predict(np.array(new_input_data))\n",
    "    \n",
    "    final_output.append(logical_val)     # AND 출력, 즉 XOR 출력\n",
    "    new_input_data = []     # AND 입력 초기화\n",
    "    \n",
    "for index in range(len(input_data)):\n",
    "    print(input_data[index], \" = \", final_output[index], end='')\n",
    "    print('\\n')"
   ]
  },
  {
   "cell_type": "code",
   "execution_count": null,
   "id": "balanced-community",
   "metadata": {},
   "outputs": [],
   "source": []
  }
 ],
 "metadata": {
  "kernelspec": {
   "display_name": "Python 3",
   "language": "python",
   "name": "python3"
  },
  "language_info": {
   "codemirror_mode": {
    "name": "ipython",
    "version": 3
   },
   "file_extension": ".py",
   "mimetype": "text/x-python",
   "name": "python",
   "nbconvert_exporter": "python",
   "pygments_lexer": "ipython3",
   "version": "3.8.7"
  }
 },
 "nbformat": 4,
 "nbformat_minor": 5
}
